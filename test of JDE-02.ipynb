Task-3 - Reverse the entire paragraph line by line e.g. I am a boy -> yob a ma I

open('news.txt', "r")

for i in f:
    x=i.strip()[::-1]
    print(x)